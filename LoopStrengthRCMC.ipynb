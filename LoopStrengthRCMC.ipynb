{
 "cells": [
  {
   "cell_type": "markdown",
   "id": "abd813be",
   "metadata": {},
   "source": [
    "# Loop strength calculation"
   ]
  },
  {
   "cell_type": "markdown",
   "id": "dfcad04e",
   "metadata": {},
   "source": [
    "## Imports"
   ]
  },
  {
   "cell_type": "code",
   "execution_count": null,
   "id": "73bb3370",
   "metadata": {},
   "outputs": [],
   "source": [
    "# import standard python libraries\n",
    "import matplotlib as mpl\n",
    "%matplotlib inline\n",
    "mpl.rcParams['figure.dpi'] = 96\n",
    "import numpy as np\n",
    "import matplotlib.pyplot as plt\n",
    "import pandas as pd\n",
    "import seaborn as sns\n",
    "\n",
    "# import libraries for biological data analysis\n",
    "from coolpuppy import coolpup\n",
    "from plotpuppy import plotpup\n",
    "import cooler\n",
    "import bioframe\n",
    "import cooltools\n",
    "from cooltools import expected_cis\n",
    "from cooltools.lib import plotting\n",
    "\n",
    "import bbi"
   ]
  },
  {
   "cell_type": "markdown",
   "id": "e71fbaa6",
   "metadata": {},
   "source": [
    "## Inputs"
   ]
  },
  {
   "cell_type": "markdown",
   "id": "70c700df",
   "metadata": {},
   "source": [
    "First, get the loops and mcools to analyse, set up variables, etc"
   ]
  },
  {
   "cell_type": "code",
   "execution_count": null,
   "id": "068a8eac",
   "metadata": {},
   "outputs": [],
   "source": [
    "#mcool resolution to read\n",
    "resolution = 250\n",
    "#List of mcool locations as strings\n",
    "conditions = [\"mcoollocation1\", \"mcoollocation2\", \"mcoollocation3\"]\n",
    "#List of loop types as strings\n",
    "loopTypesNames = [\"loop\", \"type\", \"names\"]\n",
    "#List of loop file locations (bedpe)\n",
    "loopFiles = [\"looplocation1\", \"looplocation2\", \"looplocation3\"]\n",
    "\n",
    "#Specify the RCMC regions of the mcools to look at (format: chromosome (string), start (number), end (number), name of region (string))\n",
    "regions = pd.DataFrame([['chrA',1,100,'regionname1'],['chrB',1,100,'regionname2'],['chrC',1,100,'regionname3']],\n",
    "                  columns=['chrom', 'start', 'end', 'name'])\n",
    "#Cis expected file locations from cooltools - .tsv file - one for each mcool\n",
    "expectedFiles = [\"expectedlocation1\", \"expectedlocation2\", \"expectedlocation3\"]\n",
    "#Set save directory\n",
    "saveDir = '/a/directory/on/your/system/'\n",
    "\n",
    "#Set the size of the area flanking the dot\n",
    "flankDist = 10000\n",
    "#Don't set this to be even... This is the size of the area to measure around the dot \n",
    "#(and by extension the size of the boxes at the edges of the region too)\n",
    "#For this reason, it needs to be odd to have integer box sizes on each side.\n",
    "dotWindow = 5\n"
   ]
  },
  {
   "cell_type": "markdown",
   "id": "e7cf57de",
   "metadata": {},
   "source": [
    "Run the imports"
   ]
  },
  {
   "cell_type": "code",
   "execution_count": null,
   "id": "d76f2cee",
   "metadata": {},
   "outputs": [],
   "source": [
    "#######Don't change this section#######\n",
    "#Creat an empty list to store the imported loop locations\n",
    "loopTypes = []\n",
    "#List of column names to use for imported loops (this is constant - do not change)\n",
    "colNames = ['chrom1', 'start1', 'end1', 'chrom2', 'start2', 'end2']\n",
    "#Read in files, put them in loopTypes\n",
    "for file in loopFiles:\n",
    "    temploops = pd.read_csv(file, sep='\\t', names=colNames, header=None)\n",
    "    loopTypes.append(temploops)"
   ]
  },
  {
   "cell_type": "markdown",
   "id": "3ba156f7",
   "metadata": {},
   "source": [
    "## Enrichment calculation"
   ]
  },
  {
   "cell_type": "code",
   "execution_count": null,
   "id": "e4a3696a",
   "metadata": {},
   "outputs": [],
   "source": [
    "## Enrichment calculation\n",
    "\n",
    "#Viraat's new calculation\n",
    "#Modified 2022/10/04 by Miles to try to avoid NaN values and correct an issue with the background sum, \n",
    "#and generally make the code a little more streamlined\n",
    "def enrichmentCalc(mtx, dotWindow):\n",
    "    #Dimension of array side (should be square)\n",
    "    sideLength = len(mtx)\n",
    "    #Middle of side length\n",
    "    midPoint = (sideLength - 1) // 2\n",
    "    #Half size of box around centre pixel (one pixel smaller if even-sized dot window - don't do this)\n",
    "    buffer = (dotWindow - 1) // 2\n",
    "    \n",
    "    #Get sum of pixels around dot\n",
    "    dotSum = np.nansum(mtx[midPoint-buffer:midPoint+buffer+1, midPoint-buffer:midPoint+buffer+1])\n",
    "    \n",
    "    #Subset the matrix and calculate the mean without NaN values\n",
    "    backgroundSum1 = np.nansum(mtx[0:dotWindow, 0:dotWindow])\n",
    "    backgroundSum2 = np.nansum(mtx[sideLength-dotWindow:sideLength, sideLength-dotWindow:sideLength])\n",
    "    \n",
    "    #Calculate enrichment (NB this assumes all boxes are the same size.\n",
    "    #If you set an even dotWindow value, they won't be)\n",
    "    enrichment = dotSum / ((backgroundSum1 + backgroundSum2)/2)\n",
    "    \n",
    "    return enrichment"
   ]
  },
  {
   "cell_type": "markdown",
   "id": "5e1e9fad",
   "metadata": {},
   "source": [
    "# Get the strengths"
   ]
  },
  {
   "cell_type": "markdown",
   "id": "666fd62a",
   "metadata": {},
   "source": [
    "Function for getting strength of each loop (uses the pileup function from cooltools to do observed/expected)"
   ]
  },
  {
   "cell_type": "code",
   "execution_count": null,
   "id": "afd62abd",
   "metadata": {},
   "outputs": [],
   "source": [
    "def loopStrengthGet(loop, flankDist, clr, regions, expected, dotWindow):\n",
    "    loopf = loop.to_frame().T\n",
    "    loopf = loopf.astype({'start1':'int64','end1':'int64','start2':'int64','end2':'int64'})\n",
    "    stack = cooltools.pileup(clr, loopf, view_df=regions, expected_df=expected, flank=flankDist)\n",
    "    mtx = np.nanmean(stack, axis=2)\n",
    "    enrichment = enrichmentCalc(mtx, dotWindow)\n",
    "    \n",
    "    return enrichment"
   ]
  },
  {
   "cell_type": "code",
   "execution_count": null,
   "id": "01ca3113",
   "metadata": {
    "scrolled": true
   },
   "outputs": [],
   "source": [
    "#Zip the names and loop info into a dictionary for easier referencing\n",
    "loopDict = dict(zip(loopTypesNames, loopTypes))\n",
    "#Stop the code if you used an even value for dotWindow, since it won't work\n",
    "if dotWindow % 2 == 0:\n",
    "    print(\"You need to use an odd number for dotWindow in the inputs section\")\n",
    "else:\n",
    "    #Loop through the conditions\n",
    "    for i, condition in enumerate(conditions):\n",
    "        #Get the cooler data\n",
    "        clr = cooler.Cooler(condition+'::/resolutions/'+str(resolution))\n",
    "        #Get the corresponding expected data\n",
    "        expected = pd.read_csv(expectedFiles[i], sep='\\t')\n",
    "\n",
    "        #Loop through loopDict\n",
    "        for loopsName in loopDict:\n",
    "            #Read out the loops\n",
    "            loops = loopDict[loopsName]\n",
    "            #For each row (ie loop), do pileup, get enrichment, write to new column [condition]_strength\n",
    "            loops[f'{condition}_strength'] = loops.apply(loopStrengthGet, axis = 1, flankDist = flankDist, clr = clr, regions = regions, expected = expected, dotWindow = dotWindow)\n",
    "\n",
    "            loopDict[loopsName] = loops\n",
    "        "
   ]
  },
  {
   "cell_type": "markdown",
   "id": "bdc3359f",
   "metadata": {},
   "source": [
    "## Output files - one for each loop type"
   ]
  },
  {
   "cell_type": "code",
   "execution_count": null,
   "id": "50c922d5",
   "metadata": {},
   "outputs": [],
   "source": [
    "for name, df in loopDict.items():\n",
    "    df.to_csv(saveDir + name + '.bedpe', sep = '\\t', index = False, header = True)"
   ]
  }
 ],
 "metadata": {
  "kernelspec": {
   "display_name": "Python [conda env:coolpuppy]",
   "language": "python",
   "name": "conda-env-coolpuppy-py"
  },
  "language_info": {
   "codemirror_mode": {
    "name": "ipython",
    "version": 3
   },
   "file_extension": ".py",
   "mimetype": "text/x-python",
   "name": "python",
   "nbconvert_exporter": "python",
   "pygments_lexer": "ipython3",
   "version": "3.7.12"
  }
 },
 "nbformat": 4,
 "nbformat_minor": 5
}

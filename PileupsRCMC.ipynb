{
 "cells": [
  {
   "cell_type": "markdown",
   "id": "a2f31b9f",
   "metadata": {},
   "source": [
    "# Plotting pileups"
   ]
  },
  {
   "cell_type": "markdown",
   "id": "717f5fcc",
   "metadata": {},
   "source": [
    "## Imports"
   ]
  },
  {
   "cell_type": "code",
   "execution_count": null,
   "id": "da763af9",
   "metadata": {},
   "outputs": [],
   "source": [
    "# import standard python libraries\n",
    "import matplotlib as mpl\n",
    "%matplotlib inline\n",
    "mpl.rcParams['figure.dpi'] = 96\n",
    "import numpy as np\n",
    "import matplotlib.pyplot as plt\n",
    "import pandas as pd\n",
    "import seaborn as sns\n",
    "\n",
    "# import libraries for biological data analysis\n",
    "from coolpuppy import coolpup\n",
    "from plotpuppy import plotpup\n",
    "import cooler\n",
    "import bioframe\n",
    "import cooltools\n",
    "from cooltools import expected_cis\n",
    "from cooltools.lib import plotting\n",
    "\n",
    "import bbi"
   ]
  },
  {
   "cell_type": "markdown",
   "id": "98de4e75",
   "metadata": {},
   "source": [
    "## Enrichment calculation"
   ]
  },
  {
   "cell_type": "code",
   "execution_count": null,
   "id": "3a79fc85",
   "metadata": {},
   "outputs": [],
   "source": [
    "#Viraat's new calculation\n",
    "#Modified 2022/10/04 by Miles to try to avoid NaN values and correct an issue with the background sum, \n",
    "#and generally make the code a little more streamlined\n",
    "def enrichmentCalc(mtx, dotWindow):\n",
    "    #Dimension of array side (should be square)\n",
    "    sideLength = len(mtx)\n",
    "    #Middle of side length\n",
    "    midPoint = (sideLength - 1) // 2\n",
    "    #Half size of box around centre pixel (one pixel smaller if even-sized dot window - don't do this)\n",
    "    buffer = (dotWindow - 1) // 2\n",
    "    \n",
    "    #Get sum of pixels around dot\n",
    "    dotSum = np.nansum(mtx[midPoint-buffer:midPoint+buffer+1, midPoint-buffer:midPoint+buffer+1])\n",
    "    \n",
    "    #Subset the matrix and calculate the mean without NaN values\n",
    "    backgroundSum1 = np.nansum(mtx[0:dotWindow, 0:dotWindow])\n",
    "    backgroundSum2 = np.nansum(mtx[sideLength-dotWindow:sideLength, sideLength-dotWindow:sideLength])\n",
    "    \n",
    "    #Calculate enrichment (NB this assumes all boxes are the same size.\n",
    "    #If you set an even dotWindow value, they won't be)\n",
    "    enrichment = dotSum / ((backgroundSum1 + backgroundSum2)/2)\n",
    "    \n",
    "    return enrichment"
   ]
  },
  {
   "cell_type": "markdown",
   "id": "a19e8ae8",
   "metadata": {},
   "source": [
    "## Inputs"
   ]
  },
  {
   "cell_type": "code",
   "execution_count": null,
   "id": "295f6354",
   "metadata": {},
   "outputs": [],
   "source": [
    "#mcool resolution to read\n",
    "resolution = 250\n",
    "#List of mcool locations as strings\n",
    "clrfiles = [\"mcoollocation1\", \"mcoollocation2\", \"mcoollocation3\"]\n",
    "#List of mcool conditions as strings\n",
    "conditions = [\"condition1\", \"condition2\", \"condition3\"]\n",
    "#List of loop types as strings\n",
    "loopTypesNames = [\"loop\", \"type\", \"names\"]\n",
    "#List of loop file locations (bedpe)\n",
    "loopFiles = [\"looplocation1\", \"looplocation2\", \"looplocation3\"]\n",
    "\n",
    "#Specify the RCMC regions of the mcools to look at (format: chromosome (string), start (number), end (number), name of region (string))\n",
    "regions = pd.DataFrame([['chrA',1,100,'regionname1'],['chrB',1,100,'regionname2'],['chrC',1,100,'regionname3']],\n",
    "                  columns=['chrom', 'start', 'end', 'name'])\n",
    "#Cis expected file locations from cooltools - .tsv file - one for each mcool\n",
    "expectedFiles = [\"expectedlocation1\", \"expectedlocation2\", \"expectedlocation3\"]\n",
    "#Set save directory\n",
    "saveDir = '/a/directory/on/your/system/'\n",
    "\n",
    "#Set the size of the area flanking the dot\n",
    "flankDist = 10000\n",
    "#Don't set this to be even... This is the size of the area to measure around the dot \n",
    "#(and by extension the size of the boxes at the edges of the region too)\n",
    "#For this reason, it needs to be odd to have integer box sizes on each side.\n",
    "dotWindow = 5\n",
    "\n"
   ]
  },
  {
   "cell_type": "markdown",
   "id": "aaa6af6c",
   "metadata": {},
   "source": [
    "Read in the loops"
   ]
  },
  {
   "cell_type": "code",
   "execution_count": null,
   "id": "e9f08a9b",
   "metadata": {},
   "outputs": [],
   "source": [
    "#######Don't change this section#######\n",
    "#Creat an empty list to store the imported loop locations\n",
    "loopTypes = []\n",
    "#List of column names to use for imported loops (this is constant - do not change)\n",
    "colNames = ['chrom1', 'start1', 'end1', 'chrom2', 'start2', 'end2']\n",
    "#Read in files, put them in loopTypes\n",
    "for file in loopFiles:\n",
    "    temploops = pd.read_csv(file, sep='\\t', names=colNames, header=None)\n",
    "    loopTypes.append(temploops)"
   ]
  },
  {
   "cell_type": "markdown",
   "id": "c6de3c38",
   "metadata": {},
   "source": [
    "## Run the script"
   ]
  },
  {
   "cell_type": "code",
   "execution_count": null,
   "id": "f27175dd",
   "metadata": {},
   "outputs": [],
   "source": [
    "#Loop through each cooler\n",
    "for i, clrfile in enumerate(clrfiles):\n",
    "    #Get condition name\n",
    "    condition = conditions[i]\n",
    "    #Get expected file\n",
    "    expected = pd.read_csv(expectedFiles[i], sep='\\t')\n",
    "    #Read in cooler\n",
    "    clr = cooler.Cooler(clrfile+'::/resolutions/'+str(resolution))\n",
    "    #Loop through different loop types\n",
    "    for j in range(len(loopTypes)):\n",
    "        loops = loopTypes[j]\n",
    "        loopsName = loopTypesNames[j]\n",
    "        #Calculate pileups\n",
    "        stack = cooltools.pileup(clr, loops, view_df=regions, expected_df=expected, flank=flankDist)\n",
    "        #Flatten stack by calculating means\n",
    "        mtx = np.nanmean(stack, axis=2)\n",
    "        #Calculate enrichment\n",
    "        enrichment = enrichmentCalc(mtx, dotWindow)\n",
    "        #Plot figure\n",
    "        plt.imshow(\n",
    "            np.log2(mtx),\n",
    "            vmax = 2.5,\n",
    "            vmin = -2.5,\n",
    "            cmap='coolwarm')\n",
    "        \n",
    "        plt.colorbar(label = 'log2 mean obs/exp')\n",
    "        ticks_pixels = np.linspace(0, flankDist*2//resolution,5)\n",
    "        ticks_kbp = ((ticks_pixels-ticks_pixels[-1]/2)*resolution//1000).astype(int)\n",
    "        plt.xticks(ticks_pixels, ticks_kbp)\n",
    "        plt.yticks(ticks_pixels, ticks_kbp)\n",
    "        plt.xlabel('relative position, kbp')\n",
    "        plt.ylabel('relative position, kbp')\n",
    "        plt.text(1, 1, round(enrichment, 2))\n",
    "        plt.savefig(saveDir+'LoopPileups_'+condition+'_'+loopsName+'_'+str(resolution)+'bp_'+str(flankDist)+'bp.pdf', dpi=1200)\n",
    "        plt.clf()\n",
    "\n"
   ]
  }
 ],
 "metadata": {
  "kernelspec": {
   "display_name": "Python [conda env:coolpuppy]",
   "language": "python",
   "name": "conda-env-coolpuppy-py"
  },
  "language_info": {
   "codemirror_mode": {
    "name": "ipython",
    "version": 3
   },
   "file_extension": ".py",
   "mimetype": "text/x-python",
   "name": "python",
   "nbconvert_exporter": "python",
   "pygments_lexer": "ipython3",
   "version": "3.7.12"
  }
 },
 "nbformat": 4,
 "nbformat_minor": 5
}
